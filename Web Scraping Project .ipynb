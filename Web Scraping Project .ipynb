{
 "cells": [
  {
   "cell_type": "markdown",
   "id": "d547419f",
   "metadata": {},
   "source": [
    "# Web Scraping Project: Quotes to Scrape"
   ]
  },
  {
   "cell_type": "markdown",
   "id": "37387a05",
   "metadata": {},
   "source": [
    "# Objective\n",
    "Scrape data from the Quotes to Scrape website and save it to a CSV file.\n"
   ]
  },
  {
   "cell_type": "code",
   "execution_count": 23,
   "id": "ff04f366",
   "metadata": {},
   "outputs": [],
   "source": [
    "# Use the requests library to download web pages\n",
    "import requests\n",
    "\n",
    "# Define the URL\n",
    "url = \"https://quotes.toscrape.com/page/1/\"\n",
    "\n",
    "# Download web page\n",
    "response = requests.get(url)\n",
    "html_content = response.text"
   ]
  },
  {
   "cell_type": "code",
   "execution_count": 24,
   "id": "72aa234b",
   "metadata": {},
   "outputs": [],
   "source": [
    "# Use Beautiful Soup to parse and extract information\n",
    "from bs4 import BeautifulSoup\n",
    "\n",
    "# Parse and explore the structure\n",
    "soup = BeautifulSoup(html_content, 'html.parser')\n",
    "\n",
    "# Extract data (names, quotes, tags)\n",
    "names = [author.text.strip() for author in soup.select('.author')]\n",
    "quotes = [quote.text.strip() for quote in soup.select('.text')]\n",
    "tags = [tag.text.strip() for tag in soup.select('.tag')]\n",
    "\n"
   ]
  },
  {
   "cell_type": "code",
   "execution_count": 25,
   "id": "c698c6a6",
   "metadata": {},
   "outputs": [
    {
     "name": "stdout",
     "output_type": "stream",
     "text": [
      "Error: All lists must have the same length.\n",
      "Length of 'names': 10\n",
      "Length of 'quotes': 10\n",
      "Length of 'tags': 40\n"
     ]
    }
   ],
   "source": [
    "import pandas as pd\n",
    "\n",
    "# Create a function to save data to CSV\n",
    "def save_to_csv(names, quotes, tags, filename='quotes.csv'):\n",
    "    # Check if all lists have the same length\n",
    "    if len(names) == len(quotes) == len(tags):\n",
    "        # Create DataFrame\n",
    "        df = pd.DataFrame({'Name': names, 'Quote': quotes, 'Tag': tags})\n",
    "        \n",
    "        # Save to CSV\n",
    "        df.to_csv(filename, index=False)\n",
    "        print(f\"Data saved to {filename}\")\n",
    "    else:\n",
    "        print(\"Error: All lists must have the same length.\")\n",
    "        print(f\"Length of 'names': {len(names)}\")\n",
    "        print(f\"Length of 'quotes': {len(quotes)}\")\n",
    "        print(f\"Length of 'tags': {len(tags)}\")\n",
    "\n",
    "# Execute the function with different inputs\n",
    "save_to_csv(names, quotes, tags)\n"
   ]
  },
  {
   "cell_type": "code",
   "execution_count": 26,
   "id": "4f33a127",
   "metadata": {},
   "outputs": [],
   "source": [
    "def extract_data(html_content):\n",
    "    soup = BeautifulSoup(html_content, 'html.parser')\n",
    "\n",
    "    names = [author.text.strip() for author in soup.select('.author')]\n",
    "    quotes = [quote.text.strip() for quote in soup.select('.text')]\n",
    "\n",
    "    # Extract tags for each quote separately\n",
    "    tags_list = [tag_container.select('.tag') for tag_container in soup.select('.tags')]\n",
    "    tags = [', '.join(tag.text.strip() for tag in tag_container) for tag_container in tags_list]\n",
    "\n",
    "    return names, quotes, tags\n"
   ]
  },
  {
   "cell_type": "code",
   "execution_count": 27,
   "id": "d5aeab03",
   "metadata": {},
   "outputs": [
    {
     "name": "stdout",
     "output_type": "stream",
     "text": [
      "Data saved to quotes.csv\n"
     ]
    }
   ],
   "source": [
    "names, quotes, tags = extract_data(html_content)\n",
    "save_to_csv(names, quotes, tags)"
   ]
  },
  {
   "cell_type": "code",
   "execution_count": 28,
   "id": "cf8120e7",
   "metadata": {},
   "outputs": [
    {
     "name": "stdout",
     "output_type": "stream",
     "text": [
      "              Name                                              Quote  \\\n",
      "0  Albert Einstein  “The world as we have created it is a process ...   \n",
      "1     J.K. Rowling  “It is our choices, Harry, that show what we t...   \n",
      "2  Albert Einstein  “There are only two ways to live your life. On...   \n",
      "3      Jane Austen  “The person, be it gentleman or lady, who has ...   \n",
      "4   Marilyn Monroe  “Imperfection is beauty, madness is genius and...   \n",
      "\n",
      "                                            Tag  \n",
      "0        change, deep-thoughts, thinking, world  \n",
      "1                            abilities, choices  \n",
      "2  inspirational, life, live, miracle, miracles  \n",
      "3              aliteracy, books, classic, humor  \n",
      "4                    be-yourself, inspirational  \n"
     ]
    }
   ],
   "source": [
    "# Read the CSV file back using Pandas\n",
    "df = pd.read_csv('quotes.csv')\n",
    "print(df.head())\n"
   ]
  },
  {
   "cell_type": "markdown",
   "id": "e4b103cf",
   "metadata": {},
   "source": [
    "## Conclusion\n",
    "\n",
    "In this project, we successfully scraped data from the Quotes to Scrape website and saved it to a CSV file. The project demonstrates the use of web scraping techniques with Python and the Beautiful Soup library.\n"
   ]
  }
 ],
 "metadata": {
  "kernelspec": {
   "display_name": "Python 3 (ipykernel)",
   "language": "python",
   "name": "python3"
  },
  "language_info": {
   "codemirror_mode": {
    "name": "ipython",
    "version": 3
   },
   "file_extension": ".py",
   "mimetype": "text/x-python",
   "name": "python",
   "nbconvert_exporter": "python",
   "pygments_lexer": "ipython3",
   "version": "3.11.5"
  }
 },
 "nbformat": 4,
 "nbformat_minor": 5
}
